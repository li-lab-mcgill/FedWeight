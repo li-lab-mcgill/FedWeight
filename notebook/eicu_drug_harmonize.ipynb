{
 "cells": [
  {
   "attachments": {},
   "cell_type": "markdown",
   "metadata": {},
   "source": [
    "# Before"
   ]
  },
  {
   "cell_type": "code",
   "execution_count": null,
   "metadata": {},
   "outputs": [],
   "source": [
    "import pandas as pd\n",
    "import numpy as np\n",
    "\n",
    "patient = pd.read_csv(\"../data/eicu/patient.csv\")\n",
    "medication = pd.read_csv(\"../data/eicu/medication.csv\")\n",
    "patient_medication = patient.merge(medication, on='patientunitstayid', how='inner')"
   ]
  },
  {
   "cell_type": "code",
   "execution_count": null,
   "metadata": {},
   "outputs": [],
   "source": [
    "import matplotlib.pyplot as plt\n",
    "\n",
    "medication_not_nan_percentage = []\n",
    "medication_nan_percentage = []\n",
    "for hospitalid in pd.unique(patient_medication['hospitalid']).tolist():\n",
    "    patient_medication_hospital = patient_medication[patient_medication['hospitalid'] == hospitalid]\n",
    "    percentage = patient_medication_hospital[patient_medication_hospital['drugname'].isna()].shape[0] / patient_medication_hospital.shape[0]\n",
    "    medication_not_nan_percentage.append(1 - percentage)\n",
    "    medication_nan_percentage.append(percentage)\n",
    "\n",
    "# Percentage Distribution of Drug Existance Across Hospitals\n",
    "plt.figure(figsize=(6, 4.5))\n",
    "plt.title(\"Before Imputation\")\n",
    "plt.bar(np.arange(len(medication_nan_percentage)), medication_not_nan_percentage, label='Exist', color=\"#5faffa\")\n",
    "plt.bar(np.arange(len(medication_nan_percentage)), medication_nan_percentage, label='Not Exist', color=\"#fa8296\", bottom=medication_not_nan_percentage)\n",
    "plt.xticks([])\n",
    "plt.xlabel(\"Hospitals\")\n",
    "plt.ylabel(\"Percentage\")\n",
    "plt.legend(title=\"Drug Name\", loc='center left', bbox_to_anchor=(1, 0.5))\n",
    "plt.show()"
   ]
  },
  {
   "cell_type": "code",
   "execution_count": null,
   "metadata": {},
   "outputs": [],
   "source": [
    "eicu = pd.read_csv(\"../data/one_hot_age_eicu_data_2.csv\")\n",
    "eicu.head()"
   ]
  },
  {
   "cell_type": "code",
   "execution_count": null,
   "metadata": {},
   "outputs": [],
   "source": [
    "import numpy as np\n",
    "import seaborn as sns\n",
    "import matplotlib.pyplot as plt\n",
    "\n",
    "hospital_data = eicu.to_numpy()\n",
    "\n",
    "selected_hospitals = [420,110,122,167,183,199,243,252,281,416,443]\n",
    "hospital_drug_mapping = {}\n",
    "for hospital_id in selected_hospitals:\n",
    "    data = hospital_data[hospital_data[:, 2] == hospital_id]\n",
    "    hospital_drug_mapping[hospital_id] = np.where(np.sum(data[:, 8:-9], axis=0) > 0)[0]\n",
    "\n",
    "drug_percentage = np.zeros((len(selected_hospitals), len(selected_hospitals)))\n",
    "for i, hospital_id_1 in enumerate(selected_hospitals):\n",
    "    for j, hospital_id_2 in enumerate(selected_hospitals):\n",
    "        drug_names_1 = hospital_drug_mapping[hospital_id_1]\n",
    "        drug_names_2 = hospital_drug_mapping[hospital_id_2]\n",
    "        drug_percentage[i, j] = len(np.intersect1d(drug_names_1, drug_names_2)) / len(drug_names_2)\n",
    "\n",
    "# Overlap Drugs Percentage in Hospitals: |A ∩ B| / |B|\n",
    "plt.figure(figsize=(6, 4.5))\n",
    "plt.title(\"Before Harmonization\")\n",
    "rdgn = sns.light_palette(color=\"#5faffa\", n_colors=100)\n",
    "ax = sns.heatmap(drug_percentage, cmap=rdgn, cbar_kws={'shrink': 0.5})\n",
    "ax.set_yticklabels(selected_hospitals, rotation=0)\n",
    "ax.set_xticklabels(selected_hospitals)\n",
    "colorbar = ax.collections[0].colorbar\n",
    "colorbar.set_label(\"Overlap Percentage\")\n",
    "plt.xlabel(\"Hospital B\")\n",
    "plt.ylabel(\"Hospital A\")\n",
    "plt.show()"
   ]
  },
  {
   "attachments": {},
   "cell_type": "markdown",
   "metadata": {},
   "source": [
    "# After"
   ]
  },
  {
   "cell_type": "code",
   "execution_count": null,
   "metadata": {},
   "outputs": [],
   "source": [
    "import pandas as pd\n",
    "import numpy as np\n",
    "\n",
    "patient = pd.read_csv(\"../data/eicu/patient.csv\")\n",
    "medication = pd.read_csv(\"../data/medication_imputed.csv\")\n",
    "patient_medication = patient.merge(medication, on='patientunitstayid', how='inner')"
   ]
  },
  {
   "cell_type": "code",
   "execution_count": null,
   "metadata": {},
   "outputs": [],
   "source": [
    "import matplotlib.pyplot as plt\n",
    "\n",
    "medication_not_nan_percentage = []\n",
    "medication_nan_percentage = []\n",
    "for hospitalid in pd.unique(patient_medication['hospitalid']).tolist():\n",
    "    patient_medication_hospital = patient_medication[patient_medication['hospitalid'] == hospitalid]\n",
    "    percentage = patient_medication_hospital[patient_medication_hospital['drugname'].isna()].shape[0] / patient_medication_hospital.shape[0]\n",
    "    medication_not_nan_percentage.append(1 - percentage)\n",
    "    medication_nan_percentage.append(percentage)\n",
    "\n",
    "# Percentage Distribution of Drug Existance Across Hospitals\n",
    "plt.figure(figsize=(6, 4.5))\n",
    "plt.title(\"After Imputation\")\n",
    "plt.bar(np.arange(len(medication_nan_percentage)), medication_not_nan_percentage, label='Exist', color=\"#5faffa\")\n",
    "plt.bar(np.arange(len(medication_nan_percentage)), medication_nan_percentage, label='Not Exist', color=\"#fa8296\", bottom=medication_not_nan_percentage)\n",
    "plt.xticks([])\n",
    "plt.xlabel(\"Hospitals\")\n",
    "plt.ylabel(\"Percentage\")\n",
    "plt.legend(title=\"Drug Name\", loc='center left', bbox_to_anchor=(1, 0.5))\n",
    "plt.show()"
   ]
  },
  {
   "cell_type": "code",
   "execution_count": null,
   "metadata": {},
   "outputs": [],
   "source": [
    "eicu = pd.read_csv(\"../data/eicu_harmonized.csv\")\n",
    "eicu.head()"
   ]
  },
  {
   "cell_type": "code",
   "execution_count": null,
   "metadata": {},
   "outputs": [],
   "source": [
    "import numpy as np\n",
    "import seaborn as sns\n",
    "import matplotlib.pyplot as plt\n",
    "\n",
    "hospital_data = eicu.to_numpy()\n",
    "\n",
    "selected_hospitals = [420,110,122,167,183,199,243,252,281,416,443]\n",
    "hospital_drug_mapping = {}\n",
    "for hospital_id in selected_hospitals:\n",
    "    data = hospital_data[hospital_data[:, 1] == hospital_id]\n",
    "    hospital_drug_mapping[hospital_id] = np.where(np.sum(data[:, 5:242], axis=0) > 0)[0]\n",
    "\n",
    "drug_percentage = np.zeros((len(selected_hospitals), len(selected_hospitals)))\n",
    "for i, hospital_id_1 in enumerate(selected_hospitals):\n",
    "    for j, hospital_id_2 in enumerate(selected_hospitals):\n",
    "        drug_names_1 = hospital_drug_mapping[hospital_id_1]\n",
    "        drug_names_2 = hospital_drug_mapping[hospital_id_2]\n",
    "        drug_percentage[i, j] = len(np.intersect1d(drug_names_1, drug_names_2)) / len(drug_names_2)\n",
    "\n",
    "# Overlap Drugs Percentage in Hospitals: |A ∩ B| / |B|\n",
    "plt.figure(figsize=(6, 4.5))\n",
    "plt.title(\"After Harmonization\")\n",
    "rdgn = sns.light_palette(color=\"#5faffa\", n_colors=100)\n",
    "ax = sns.heatmap(drug_percentage, cmap=rdgn, cbar_kws={'shrink': 0.5})\n",
    "ax.set_yticklabels(selected_hospitals, rotation=0)\n",
    "ax.set_xticklabels(selected_hospitals)\n",
    "colorbar = ax.collections[0].colorbar\n",
    "colorbar.set_label(\"Overlap Percentage\")\n",
    "plt.xlabel(\"Hospital B\")\n",
    "plt.ylabel(\"Hospital A\")\n",
    "plt.show()"
   ]
  }
 ],
 "metadata": {
  "kernelspec": {
   "display_name": "venv",
   "language": "python",
   "name": "python3"
  },
  "language_info": {
   "codemirror_mode": {
    "name": "ipython",
    "version": 3
   },
   "file_extension": ".py",
   "mimetype": "text/x-python",
   "name": "python",
   "nbconvert_exporter": "python",
   "pygments_lexer": "ipython3",
   "version": "3.9.13"
  },
  "orig_nbformat": 4
 },
 "nbformat": 4,
 "nbformat_minor": 2
}
